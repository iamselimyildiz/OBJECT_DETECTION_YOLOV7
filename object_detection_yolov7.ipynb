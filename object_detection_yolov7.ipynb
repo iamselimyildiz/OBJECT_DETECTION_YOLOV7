{
  "nbformat": 4,
  "nbformat_minor": 0,
  "metadata": {
    "colab": {
      "provenance": [],
      "gpuType": "T4"
    },
    "kernelspec": {
      "name": "python3",
      "display_name": "Python 3"
    },
    "language_info": {
      "name": "python"
    }
  },
  "cells": [
    {
      "cell_type": "markdown",
      "source": [
        "#link your work with google drive\n",
        "\n",
        "---\n",
        "\n"
      ],
      "metadata": {
        "id": "SKbjhc0UHAvI"
      }
    },
    {
      "cell_type": "code",
      "execution_count": null,
      "metadata": {
        "colab": {
          "base_uri": "https://localhost:8080/"
        },
        "id": "Fx8d6CoIGW6q",
        "outputId": "c5a662c8-09c4-4d2c-8446-3a34e4c9f93d"
      },
      "outputs": [
        {
          "output_type": "stream",
          "name": "stdout",
          "text": [
            "Mounted at /content/gdrive\n"
          ]
        }
      ],
      "source": [
        "from google.colab import drive\n",
        "drive.mount(\"/content/gdrive\")"
      ]
    },
    {
      "cell_type": "code",
      "source": [
        "%cd /content/gdrive/MyDrive/Colab Notebooks"
      ],
      "metadata": {
        "id": "EP9nbZhUGvvA",
        "colab": {
          "base_uri": "https://localhost:8080/"
        },
        "outputId": "1cd6998d-0287-4151-f615-205ada458298"
      },
      "execution_count": null,
      "outputs": [
        {
          "output_type": "stream",
          "name": "stdout",
          "text": [
            "/content/gdrive/MyDrive/Colab Notebooks\n"
          ]
        }
      ]
    },
    {
      "cell_type": "code",
      "source": [
        "!pwd"
      ],
      "metadata": {
        "colab": {
          "base_uri": "https://localhost:8080/"
        },
        "id": "_1IFPk4KG3PX",
        "outputId": "f80519b3-45b0-4981-fe2b-aff99ad83d5d"
      },
      "execution_count": null,
      "outputs": [
        {
          "output_type": "stream",
          "name": "stdout",
          "text": [
            "/content/gdrive/MyDrive/Colab Notebooks\n"
          ]
        }
      ]
    },
    {
      "cell_type": "markdown",
      "source": [
        "#create directories and clone repository"
      ],
      "metadata": {
        "id": "UuZM-zoKHNTJ"
      }
    },
    {
      "cell_type": "code",
      "source": [
        "import os\n",
        "if not os.path.isdir(\"yolov7_uygulaması\"):\n",
        "  os.makedirs(\"yolov7_uygulaması\")"
      ],
      "metadata": {
        "id": "oVTFtxt5G_e_"
      },
      "execution_count": null,
      "outputs": []
    },
    {
      "cell_type": "code",
      "source": [
        "%cd yolov7_uygulaması"
      ],
      "metadata": {
        "colab": {
          "base_uri": "https://localhost:8080/"
        },
        "id": "B0Ps_H0jHkFg",
        "outputId": "4d70a39e-affb-4f7f-b87e-e4ad96df4ffe"
      },
      "execution_count": null,
      "outputs": [
        {
          "output_type": "stream",
          "name": "stdout",
          "text": [
            "/content/gdrive/MyDrive/Colab Notebooks/yolov7_uygulaması\n"
          ]
        }
      ]
    },
    {
      "cell_type": "code",
      "source": [
        "!git clone https://github.com/WongKinYiu/yolov7.git"
      ],
      "metadata": {
        "id": "OH_wuTXuHvvZ"
      },
      "execution_count": null,
      "outputs": []
    },
    {
      "cell_type": "markdown",
      "source": [
        "#download pre-trained model\n",
        "\n",
        "\n"
      ],
      "metadata": {
        "id": "GiS989K8IGX0"
      }
    },
    {
      "cell_type": "code",
      "source": [
        "%cd yolov7"
      ],
      "metadata": {
        "colab": {
          "base_uri": "https://localhost:8080/"
        },
        "id": "vhBXWZZ-IE43",
        "outputId": "264377f4-f752-4695-9567-e46cbf657dae"
      },
      "execution_count": null,
      "outputs": [
        {
          "output_type": "stream",
          "name": "stdout",
          "text": [
            "/content/gdrive/MyDrive/Colab Notebooks/yolov7_uygulaması/yolov7\n"
          ]
        }
      ]
    },
    {
      "cell_type": "code",
      "source": [
        "!wget https://github.com/WongKinYiu/yolov7/releases/download/v0.1/yolov7.pt"
      ],
      "metadata": {
        "id": "uLTGyZYsIS-f"
      },
      "execution_count": null,
      "outputs": []
    },
    {
      "cell_type": "markdown",
      "source": [
        "#run yolov7 on pics and videos\n"
      ],
      "metadata": {
        "id": "DnJkz7XRImqF"
      }
    },
    {
      "cell_type": "code",
      "source": [
        "!pwd\n"
      ],
      "metadata": {
        "colab": {
          "base_uri": "https://localhost:8080/"
        },
        "id": "GNDMHZ9kItmH",
        "outputId": "7e7b1d23-ee82-4614-8715-bcd4146f4d3b"
      },
      "execution_count": null,
      "outputs": [
        {
          "output_type": "stream",
          "name": "stdout",
          "text": [
            "/content/gdrive/MyDrive/Colab Notebooks/yolov7_uygulaması/yolov7\n"
          ]
        }
      ]
    },
    {
      "cell_type": "code",
      "source": [
        "!python detect.py --weights yolov7.pt --conf 0.5 --img-size 640 --source cat-dog.jpg"
      ],
      "metadata": {
        "id": "46O826IQNVNw"
      },
      "execution_count": null,
      "outputs": []
    },
    {
      "cell_type": "code",
      "source": [
        "!python detect.py --weights yolov7.pt --conf 0.5 --img-size 640 --source wrestlers.jpg"
      ],
      "metadata": {
        "id": "nJhglT4OP7dr"
      },
      "execution_count": null,
      "outputs": []
    },
    {
      "cell_type": "code",
      "source": [
        "!python detect.py --weights yolov7.pt --conf 0.5 --img-size 640 --source ufc_fighters.jpg"
      ],
      "metadata": {
        "id": "EUNhk-iuRQ1A"
      },
      "execution_count": null,
      "outputs": []
    },
    {
      "cell_type": "code",
      "source": [
        "!python detect.py --weights yolov7.pt --conf 0.5 --img-size 640 --source freestyle_wrestling.mp4"
      ],
      "metadata": {
        "id": "y_nA3e4PTjb_"
      },
      "execution_count": null,
      "outputs": []
    },
    {
      "cell_type": "code",
      "source": [
        "!python detect.py --weights yolov7.pt --conf 0.5 --img-size 640 --source KIZILELMA_ve_Türk_Yıldızları.mp4"
      ],
      "metadata": {
        "id": "GvD2ruMd86po"
      },
      "execution_count": null,
      "outputs": []
    },
    {
      "cell_type": "code",
      "source": [
        "!python detect.py --weights yolov7.pt --conf 0.5 --img-size 640 --source cross_kid.mp4"
      ],
      "metadata": {
        "id": "fk3QcblyC0Og"
      },
      "execution_count": null,
      "outputs": []
    }
  ]
}